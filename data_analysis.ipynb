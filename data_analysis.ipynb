{
  "nbformat": 4,
  "nbformat_minor": 0,
  "metadata": {
    "colab": {
      "provenance": [],
      "authorship_tag": "ABX9TyO3zFzcYRQaRDsvRBJEYMxh",
      "include_colab_link": true
    },
    "kernelspec": {
      "name": "python3",
      "display_name": "Python 3"
    },
    "language_info": {
      "name": "python"
    }
  },
  "cells": [
    {
      "cell_type": "markdown",
      "metadata": {
        "id": "view-in-github",
        "colab_type": "text"
      },
      "source": [
        "<a href=\"https://colab.research.google.com/github/justy007/itdiving_case1/blob/main/data_analysis.ipynb\" target=\"_parent\"><img src=\"https://colab.research.google.com/assets/colab-badge.svg\" alt=\"Open In Colab\"/></a>"
      ]
    },
    {
      "cell_type": "markdown",
      "source": [
        "**Основной код**"
      ],
      "metadata": {
        "id": "p8J5zUWGwd-p"
      }
    },
    {
      "cell_type": "code",
      "execution_count": null,
      "metadata": {
        "id": "Os4KELsrpudN"
      },
      "outputs": [],
      "source": [
        "import pandas as pd\n",
        "import seaborn as sns\n",
        "\n",
        "df = pd.read_csv('inf_ege_data.csv',\n",
        "                 dtype={'attempts_cnt': 'UInt32', 'hints_cnt': 'UInt32'},\n",
        "                 parse_dates=['date'])\n",
        "\n",
        "df.head()\n",
        "\n",
        "df['weeks'] = df['date'].dt.to_period('W')\n",
        "\n",
        "df['months'] = df['date'].dt.to_period('M')"
      ]
    },
    {
      "cell_type": "markdown",
      "source": [
        "\n",
        "\n",
        "---\n",
        "\n"
      ],
      "metadata": {
        "id": "oUPIhskp2eOp"
      }
    },
    {
      "cell_type": "markdown",
      "source": [
        "**Группировка пройденных тестов по дням и сложности.**"
      ],
      "metadata": {
        "id": "UGPHxVKt0szD"
      }
    },
    {
      "cell_type": "code",
      "source": [
        "diff = df.groupby(['date','difficulty']).agg({'difficulty':'count'})\n",
        "diff"
      ],
      "metadata": {
        "id": "mQ2YOoc80wSe"
      },
      "execution_count": null,
      "outputs": []
    },
    {
      "cell_type": "markdown",
      "source": [
        "**Группировка пройденных тестов по неделям и сложности.**"
      ],
      "metadata": {
        "id": "FW3Y95re19aD"
      }
    },
    {
      "cell_type": "code",
      "source": [
        "diff = df.groupby(['weeks','difficulty']).agg({'difficulty':'count'})\n",
        "diff"
      ],
      "metadata": {
        "id": "zsGHR6922CTR"
      },
      "execution_count": null,
      "outputs": []
    },
    {
      "cell_type": "markdown",
      "source": [
        "**Группировка пройденных тестов по месяца и сложности.**"
      ],
      "metadata": {
        "id": "GKqXKg6dym7k"
      }
    },
    {
      "cell_type": "code",
      "source": [
        "diff = df.groupby(['months','difficulty']).agg({'difficulty':'count'})\n",
        "diff"
      ],
      "metadata": {
        "id": "rRDmyY6myXpZ"
      },
      "execution_count": null,
      "outputs": []
    },
    {
      "cell_type": "markdown",
      "source": [
        "\n",
        "\n",
        "---\n",
        "\n",
        "\n",
        "\n"
      ],
      "metadata": {
        "id": "51VzhRdd2O69"
      }
    },
    {
      "cell_type": "markdown",
      "source": [
        "**Группировка пройденных тестов по дня и корректности.**"
      ],
      "metadata": {
        "id": "nNDXl2sW2TTu"
      }
    },
    {
      "cell_type": "code",
      "source": [
        "correct = df.groupby(['date','is_correct']).agg({'is_correct':'count'})\n",
        "correct"
      ],
      "metadata": {
        "id": "-tLm_8tu2ZlN"
      },
      "execution_count": null,
      "outputs": []
    },
    {
      "cell_type": "markdown",
      "source": [
        "**Группировка пройденных тестов по неделям и корректности.**"
      ],
      "metadata": {
        "id": "6PGyOuSS2Xqc"
      }
    },
    {
      "cell_type": "code",
      "source": [
        "correct = df.groupby(['weeks','is_correct']).agg({'is_correct':'count'})\n",
        "correct"
      ],
      "metadata": {
        "id": "amQw0hLn2b5e"
      },
      "execution_count": null,
      "outputs": []
    },
    {
      "cell_type": "markdown",
      "source": [
        "**Группировка пройденных тестов по месяцам и корректности.**"
      ],
      "metadata": {
        "id": "YS3aWl9Nw9eZ"
      }
    },
    {
      "source": [
        "correct = df.groupby(['months','is_correct']).agg({'is_correct':'count'})\n",
        "correct"
      ],
      "cell_type": "code",
      "execution_count": null,
      "outputs": [],
      "metadata": {
        "cellView": "form",
        "id": "_BDVAwkTsyFK"
      }
    },
    {
      "cell_type": "markdown",
      "source": [
        "\n",
        "\n",
        "---\n",
        "\n"
      ],
      "metadata": {
        "id": "_OwH3kvW2RX_"
      }
    },
    {
      "cell_type": "markdown",
      "source": [
        "**Группировка пройденных тестов по дням и типу.**"
      ],
      "metadata": {
        "id": "gxr8TLTc3Bvc"
      }
    },
    {
      "cell_type": "code",
      "source": [
        "flowa = df.groupby(['date','flow_type']).agg({'flow_type':'count'})\n",
        "flowa"
      ],
      "metadata": {
        "id": "f_oy2hvf3NUK"
      },
      "execution_count": null,
      "outputs": []
    },
    {
      "cell_type": "markdown",
      "source": [
        "**Группировка пройденных тестов по неделям и типу.**"
      ],
      "metadata": {
        "id": "1QPs1yUi3IxI"
      }
    },
    {
      "cell_type": "code",
      "source": [
        "flowa = df.groupby(['weeks','flow_type']).agg({'flow_type':'count'})\n",
        "flowa"
      ],
      "metadata": {
        "id": "mLecUj8m3PRr"
      },
      "execution_count": null,
      "outputs": []
    },
    {
      "cell_type": "markdown",
      "source": [
        "**Группировка пройденных тестов по месяцам и типу.**"
      ],
      "metadata": {
        "id": "p-QjfwV-xjqb"
      }
    },
    {
      "cell_type": "code",
      "source": [
        "flowa = df.groupby(['months','flow_type']).agg({'flow_type':'count'})\n",
        "flowa"
      ],
      "metadata": {
        "id": "VCL710GZxedR"
      },
      "execution_count": null,
      "outputs": []
    }
  ]
}